{
 "cells": [
  {
   "cell_type": "code",
   "execution_count": 1,
   "metadata": {},
   "outputs": [],
   "source": [
    "\n",
    "import numpy as np \n",
    "import math\n",
    "import pandas as pd\n",
    "import warnings\n",
    "from collections import Counter\n",
    "import random\n",
    "\n",
    "train_file='../Dataset/breast-cancer-dataset/train.csv'\n",
    "test_file='../Dataset/breast-cancer-dataset/test.csv'\n",
    "validate_file='../Dataset/breast-cancer-dataset/val.csv'"
   ]
  },
  {
   "cell_type": "code",
   "execution_count": 2,
   "metadata": {},
   "outputs": [
    {
     "name": "stderr",
     "output_type": "stream",
     "text": [
      "/var/folders/l4/s0n110fx5qjfmsh_w_yxrcqw0000gp/T/ipykernel_2327/3970750545.py:5: FutureWarning: In a future version of pandas all arguments of DataFrame.drop except for the argument 'labels' will be keyword-only.\n",
      "  train_data.drop(['id'],1, inplace=True)\n",
      "/var/folders/l4/s0n110fx5qjfmsh_w_yxrcqw0000gp/T/ipykernel_2327/3970750545.py:6: FutureWarning: In a future version of pandas all arguments of DataFrame.drop except for the argument 'labels' will be keyword-only.\n",
      "  test_data.drop([0],1, inplace=True)\n",
      "/var/folders/l4/s0n110fx5qjfmsh_w_yxrcqw0000gp/T/ipykernel_2327/3970750545.py:7: FutureWarning: In a future version of pandas all arguments of DataFrame.drop except for the argument 'labels' will be keyword-only.\n",
      "  validate_data.drop([0],1, inplace=True)\n"
     ]
    }
   ],
   "source": [
    "train_data=pd.read_csv(train_file)\n",
    "test_data=pd.read_csv(test_file, header=None)\n",
    "validate_data=pd.read_csv(validate_file, header=None)\n",
    "\n",
    "train_data.drop(['id'],1, inplace=True)\n",
    "test_data.drop([0],1, inplace=True)\n",
    "validate_data.drop([0],1, inplace=True)"
   ]
  },
  {
   "cell_type": "code",
   "execution_count": 3,
   "metadata": {},
   "outputs": [],
   "source": [
    "train_data=train_data.astype(float).values.tolist()\n",
    "test_data=test_data.astype(float).values.tolist()\n",
    "validate_data=validate_data.astype(float).values.tolist()"
   ]
  },
  {
   "cell_type": "code",
   "execution_count": 4,
   "metadata": {},
   "outputs": [],
   "source": [
    "# dictionaries have to keys: 2 for benign tumors and 4 for malignant\n",
    "train_set={2:[],4:[]}  \n",
    "test_set={2:[],4:[]}\n",
    "validate_set={2:[],4:[]}\n",
    "\n",
    "for i in train_data:\n",
    "    train_set[i[-1]].append(i[:-1]) # appending list to last element\n",
    "for i in test_data:\n",
    "    test_set[i[-1]].append(i[:-1])\n",
    "for i in validate_data:\n",
    "    validate_set[i[-1]].append(i[:-1])"
   ]
  },
  {
   "cell_type": "code",
   "execution_count": 5,
   "metadata": {},
   "outputs": [],
   "source": [
    "from pprint import pprint"
   ]
  },
  {
   "cell_type": "code",
   "execution_count": 11,
   "metadata": {},
   "outputs": [],
   "source": [
    "#data to train, new data to predict and a value for k\n",
    "def k_nearest_neighbors(data,predict,k):\n",
    "    distances=[]  # list of distances\n",
    "    for group in data: # each class in data\n",
    "        for features in data[group]: # iterating through features\n",
    "            euclidean_distance = math.sqrt( (features[0]-predict[0])**2 + (features[1]-predict[1])**2 )\n",
    "            distances.append([euclidean_distance,group])  \n",
    "    votes=[i[1] for i in sorted(distances)[:k]]  \n",
    "    vote_result=Counter(votes).most_common(1)[0][0] \n",
    "    return vote_result"
   ]
  },
  {
   "cell_type": "code",
   "execution_count": 13,
   "metadata": {},
   "outputs": [
    {
     "name": "stdout",
     "output_type": "stream",
     "text": [
      "477\n"
     ]
    }
   ],
   "source": [
    "print(len(train_data))"
   ]
  },
  {
   "cell_type": "code",
   "execution_count": 14,
   "metadata": {},
   "outputs": [],
   "source": [
    "train_size=len(train_data)"
   ]
  },
  {
   "cell_type": "code",
   "execution_count": 15,
   "metadata": {},
   "outputs": [],
   "source": [
    "# test with different odd k values since binary classification\n",
    "k_range=range(1,train_size)\n",
    "correct=0\n",
    "total=0\n",
    "max_accuracy=0.0\n",
    "optimal_k=0\n",
    "accuracy=0.0\n",
    "accuracies=[]\n",
    "for k in k_range:\n",
    "    # iterate through groups in testset\n",
    "    for group in validate_set:\n",
    "        #go through data point , test on validate_set\n",
    "        for data in validate_set[group]:\n",
    "            # feed data point into function \n",
    "            vote=k_nearest_neighbors(train_set, data, k)\n",
    "            # if group from test_set equal to vote from knn classifier\n",
    "            if group==vote:\n",
    "                correct+=1\n",
    "            total+=1 \n",
    "            accuracy=correct/total      \n",
    "    if max_accuracy<accuracy:\n",
    "            max_accuracy=accuracy\n",
    "            optimal_k=k   \n",
    "    accuracies.append(accuracy)"
   ]
  },
  {
   "cell_type": "code",
   "execution_count": 16,
   "metadata": {},
   "outputs": [
    {
     "name": "stdout",
     "output_type": "stream",
     "text": [
      "max accuracy:  0.9907770515613653\n",
      "optimal k:  102\n"
     ]
    }
   ],
   "source": [
    "# median of k ?? \n",
    "print('max accuracy: ', max_accuracy)\n",
    "print('optimal k: ',optimal_k)"
   ]
  },
  {
   "cell_type": "code",
   "execution_count": 17,
   "metadata": {},
   "outputs": [
    {
     "name": "stdout",
     "output_type": "stream",
     "text": [
      "Accuracy:  0.8715313942823387\n"
     ]
    }
   ],
   "source": [
    "# test with test_set with optimal k and find accuracy\n",
    "for group in test_set:\n",
    "        #go through data point , test on validate_set\n",
    "    for data in test_set[group]:\n",
    "            # feed data point into function \n",
    "        vote=k_nearest_neighbors(train_set, data, optimal_k)\n",
    "        if group==vote:\n",
    "            correct+=1\n",
    "        total+=1\n",
    "        accuracy=correct/total\n",
    "print('Accuracy: ', accuracy)"
   ]
  }
 ],
 "metadata": {
  "kernelspec": {
   "display_name": "Python 3",
   "language": "python",
   "name": "python3"
  },
  "language_info": {
   "codemirror_mode": {
    "name": "ipython",
    "version": 3
   },
   "file_extension": ".py",
   "mimetype": "text/x-python",
   "name": "python",
   "nbconvert_exporter": "python",
   "pygments_lexer": "ipython3",
   "version": "3.9.15"
  }
 },
 "nbformat": 4,
 "nbformat_minor": 2
}
